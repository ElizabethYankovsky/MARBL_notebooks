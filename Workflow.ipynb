{
 "cells": [
  {
   "cell_type": "markdown",
   "metadata": {},
   "source": [
    "### Instructions for running the 1D Column Model with MARBL enabled"
   ]
  },
  {
   "cell_type": "markdown",
   "metadata": {},
   "source": [
    "1. You will first need to build MOM6-Examples as described by Mike Levy [here](https://github.com/mnlevy1981/MOM6-examples/wiki/Building-MOM6-examples-with-MARBL)."
   ]
  },
  {
   "cell_type": "markdown",
   "metadata": {},
   "source": [
    "2. Now, if you go into the directory **MOM6-examples/ocean_only/single_column** you will see there are several directories including BML, EPBL, and KPP. These represent different choices one can make for the vertical parameterizations ([more info in the MOM6 docs](https://mom6.readthedocs.io/en/main/parameterizations_vertical.html)). I suggest starting with the K-Profile Parameterization (KPP), which is a traditionally used scheme. This is the one that I've been working with for now."
   ]
  },
  {
   "cell_type": "markdown",
   "metadata": {},
   "source": [
    "3. My recommendation is to leave the single_column directory intact and make your own copy of that directory that you'll be working with and modifying; for examle, I've created **/glade/u/home/eyankovsky/MOM6-examples/ocean_only/my_single_column/**. Within that is the KPP directory that I've been performing simulations in (feel free to look at that!).\n"
   ]
  },
  {
   "cell_type": "markdown",
   "metadata": {},
   "source": [
    "4. Once you're inside of the KPP directory, you can make modifications to **MOM_input** or **MOM_override** to control various aspects of your run. I'm happy to help out with this. Here are a few changes I made. Again, you can see all of this in the directory **/glade/u/home/eyankovsky/MOM6-examples/ocean_only/my_single_column/KPP**.\n",
    "- In **MOM_override** I set CESM_INPUTDIR = \"INPUT/BATS\" (this is where I place all of the initial conditions for the MARBL tracers)\n",
    "- I've been running the single column experiment for the [BATS](https://en.wikipedia.org/wiki/Bermuda_Atlantic_Time-series_Study#:~:text=The%20Bermuda%20Atlantic%20Time%2Dseries,N%2064%C2%B010%E2%80%B2W%20.) location. In order to do this, one has to first create the initial condition files for the MARBL tracers that correspond to that location. I do this in the Generate_IC_Files.ipynb [here](https://github.com/ElizabethYankovsky/MARBL_notebooks/blob/master/Generate_IC_Files.ipynb). Once you run the model, it will generate an initial state filed called **MOM_IC.nc** that you can compare against your own initial condition file to make sure the model is initialized properly, this is done in Check_MARBL_initialization.ipynb.\n",
    "- I changed the file **diag_table** to save all of the MARBL tracer information (you can copy what I have there)\n",
    "- Make sure you also specify the following in **MOM_input**:\n"
   ]
  },
  {
   "cell_type": "raw",
   "metadata": {},
   "source": [
    "! === module MOM_fixed_initialization ===\n",
    "USE_MARBL_TRACERS = True\n",
    "                                ! \"[Boolean] default = False\n",
    "                                ! If true, use the MARBL tracer package.\"\n",
    "! === module MARBL_tracers ===\n",
    "MARBL_TRACERS_IC_FILE = \"IC_FILE_COLUMN.nc\" ! default = \"ecosys_jan_IC_omip_MOM_tx0.66v1_c211008.nc\"\n",
    "                                ! The file in which the MARBL tracers initial values can be found.\n",
    "MARBL_FESEDFLUX_FILE = \"MARBL_FESEDFLUX_FILE_COLUMN.nc\" ! default = \"fesedflux_total_reduce_oxic_tx0.66v1.c211020.nc\"\n",
    "                                ! The file in which the iron sediment flux forcing field can be found.\n",
    "MARBL_FEVENTFLUX_FILE = \"MARBL_FEVENTFLUX_FILE_COLUMN.nc\" ! default = \"feventflux_5gmol_tx0.66v1.c211020.nc\"\n",
    "                                ! The file in which the iron vent flux forcing field can be found.\n"
   ]
  },
  {
   "cell_type": "markdown",
   "metadata": {},
   "source": [
    "5. You'll see that I have a file called submit_cheyenne in the KPP directory. Here are its contents:"
   ]
  },
  {
   "cell_type": "raw",
   "metadata": {},
   "source": [
    "#!/bin/bash\n",
    "\n",
    "### Job Name\n",
    "#PBS -N MARBL_test\n",
    "\n",
    "### Project code\n",
    "#PBS -A P93300070\n",
    "#PBS -l walltime=02:59:00\n",
    "#PBS -q regular\n",
    "\n",
    "### Merge output and error files\n",
    "#PBS -j oe\n",
    "#PBS -k eod\n",
    "\n",
    "### Select 2 nodes with 36 CPUs each for a total of 72 MPI processes\n",
    "#PBS -l select=1:ncpus=1:mpiprocs=1\n",
    "\n",
    "### Send email on abort, begin and end\n",
    "#PBS -m abe\n",
    "### Specify mail recipient\n",
    "#PBS -M eay8226@nyu.edu\n",
    "\n",
    "### Run the executable\n",
    "mpiexec_mpt ../../../build/intel/ocean_only/repro/MOM6"
   ]
  },
  {
   "cell_type": "markdown",
   "metadata": {},
   "source": [
    "To submit I job I simply do 'qsub submit_cheyenne' which submits this job to the queue. In that file you'll have to modify the mail recipient (otherwise you'll spam me with updates about your jobs :) )\n",
    "\n",
    "To check the status of the job do 'qstat -u yourusername'"
   ]
  },
  {
   "cell_type": "markdown",
   "metadata": {},
   "source": [
    "6. If the job ran successfully you can start analyzing the data! You can see some basic analysis that I've performed in Basic_analysis.ipynb"
   ]
  },
  {
   "cell_type": "code",
   "execution_count": null,
   "metadata": {},
   "outputs": [],
   "source": []
  }
 ],
 "metadata": {
  "kernelspec": {
   "display_name": "Python 3",
   "language": "python",
   "name": "python3"
  },
  "language_info": {
   "codemirror_mode": {
    "name": "ipython",
    "version": 3
   },
   "file_extension": ".py",
   "mimetype": "text/x-python",
   "name": "python",
   "nbconvert_exporter": "python",
   "pygments_lexer": "ipython3",
   "version": "3.7.9"
  }
 },
 "nbformat": 4,
 "nbformat_minor": 4
}
